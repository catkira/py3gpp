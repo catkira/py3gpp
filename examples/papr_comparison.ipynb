{
 "cells": [
  {
   "cell_type": "code",
   "execution_count": 7,
   "metadata": {},
   "outputs": [],
   "source": [
    "import numpy as np\n",
    "import matplotlib.pyplot as plt\n",
    "from py3gpp import *"
   ]
  },
  {
   "cell_type": "code",
   "execution_count": 58,
   "metadata": {},
   "outputs": [],
   "source": [
    "NFFT = 10\n",
    "ZERO_CARRIER = 400"
   ]
  },
  {
   "cell_type": "code",
   "execution_count": 72,
   "metadata": {},
   "outputs": [
    {
     "name": "stdout",
     "output_type": "stream",
     "text": [
      "PAPR = 9.322 dB\n"
     ]
    }
   ],
   "source": [
    "cw = np.random.randint(0, 2, (2**NFFT - ZERO_CARRIER)*2)\n",
    "grid = np.zeros((2**NFFT, 1), np.complex128)\n",
    "grid[ZERO_CARRIER//2:-ZERO_CARRIER//2, 0] = nrSymbolModulate(cw, 'QPSK')\n",
    "waveform, _ = nrOFDMModulate(grid = grid)\n",
    "power = np.real(np.multiply(waveform, waveform.conj()))\n",
    "print(f\"PAPR = {10*np.log10(np.max(power)/np.mean(power)):.04} dB\")"
   ]
  },
  {
   "cell_type": "code",
   "execution_count": null,
   "metadata": {},
   "outputs": [
    {
     "name": "stdout",
     "output_type": "stream",
     "text": [
      "PAPR = 6.304 dB\n"
     ]
    }
   ],
   "source": [
    "grid[ZERO_CARRIER//2:-ZERO_CARRIER//2, 0] = nrTransformPrecode(nrSymbolModulate(cw, 'QPSK'), (2**NFFT - ZERO_CARRIER)//12)\n",
    "waveform, _ = nrOFDMModulate(grid = grid)\n",
    "power = np.real(np.multiply(waveform, waveform.conj()))\n",
    "print(f\"PAPR with DFT-s precoding = {10*np.log10(np.max(power)/np.mean(power)):.04} dB\")"
   ]
  }
 ],
 "metadata": {
  "kernelspec": {
   "display_name": "Python 3",
   "language": "python",
   "name": "python3"
  },
  "language_info": {
   "codemirror_mode": {
    "name": "ipython",
    "version": 3
   },
   "file_extension": ".py",
   "mimetype": "text/x-python",
   "name": "python",
   "nbconvert_exporter": "python",
   "pygments_lexer": "ipython3",
   "version": "3.10.12"
  }
 },
 "nbformat": 4,
 "nbformat_minor": 2
}
