{
 "cells": [
  {
   "cell_type": "code",
   "execution_count": 16,
   "metadata": {},
   "outputs": [],
   "source": [
    "import numpy as np\n",
    "from py3gpp import *"
   ]
  },
  {
   "cell_type": "code",
   "execution_count": 17,
   "metadata": {},
   "outputs": [
    {
     "name": "stdout",
     "output_type": "stream",
     "text": [
      "{'CRC': '24A', 'L': 24, 'BGN': 1, 'C': 2, 'Lcb': 24, 'F': 244, 'Zc': 240, 'K': 5280, 'N': 15840}\n"
     ]
    }
   ],
   "source": [
    "A = 10000           # Transport block length\n",
    "rate = 449 / 1024   # Target code rate\n",
    "rv = 0              # Redundancy version, 0-3\n",
    "modulation = '16QAM'\n",
    "nlayers = 1\n",
    "\n",
    "cbs_info = nrDLSCHInfo(A, rate)\n",
    "print(cbs_info)"
   ]
  },
  {
   "cell_type": "code",
   "execution_count": 18,
   "metadata": {},
   "outputs": [],
   "source": [
    "in_ = np.random.randint(0, 2, (A, 1))\n",
    "\n",
    "tb_in = nrCRCEncode(in_, cbs_info['CRC'])\n",
    "\n",
    "cbs_in = nrCodeBlockSegmentLDPC(tb_in, cbs_info['BGN'])\n",
    "\n",
    "enc = nrLDPCEncode(cbs_in, cbs_info['BGN'])\n",
    "\n",
    "outlen = np.ceil(A/rate)\n",
    "ch_in = nrRateMatchLDPC(enc, outlen, rv, modulation, nlayers)"
   ]
  },
  {
   "cell_type": "code",
   "execution_count": 19,
   "metadata": {},
   "outputs": [],
   "source": [
    "# channel\n",
    "if True:\n",
    "    nid = 1\n",
    "    pdsch_bits = nrPDSCH(np.expand_dims(ch_in, 0), [modulation], 1, nid, 0)\n",
    "    ch_out = nrPDSCHDecode(pdsch_bits, [modulation], nid, 0)[0]\n",
    "else:\n",
    "    ch_out = 1-2*(ch_in)"
   ]
  },
  {
   "cell_type": "code",
   "execution_count": 20,
   "metadata": {},
   "outputs": [
    {
     "name": "stdout",
     "output_type": "stream",
     "text": [
      "decoding finished after 25 iterations\n",
      "code block CRC: 0\n",
      "transport block CRC: [0]\n",
      "output equals input: True\n"
     ]
    }
   ],
   "source": [
    "raterec = nrRateRecoverLDPC(ch_out, A, rate, rv, modulation, nlayers)\n",
    "\n",
    "dec_bits, iters = nrLDPCDecode(raterec, cbs_info['BGN'], 25)\n",
    "print(f'decoding finished after {iters} iterations')\n",
    "\n",
    "blk, blk_err = nrCodeBlockDesegmentLDPC(dec_bits, cbs_info['BGN'], A + cbs_info['L'])\n",
    "print(f'code block CRC: {int(blk_err)}')\n",
    "\n",
    "out, tb_err = nrCRCDecode(blk, cbs_info['CRC'])\n",
    "print(f'transport block CRC: {tb_err}')\n",
    "\n",
    "print(f'output equals input: {np.array_equal(in_, out)}')"
   ]
  }
 ],
 "metadata": {
  "kernelspec": {
   "display_name": "Python 3",
   "language": "python",
   "name": "python3"
  },
  "language_info": {
   "codemirror_mode": {
    "name": "ipython",
    "version": 3
   },
   "file_extension": ".py",
   "mimetype": "text/x-python",
   "name": "python",
   "nbconvert_exporter": "python",
   "pygments_lexer": "ipython3",
   "version": "3.10.12"
  }
 },
 "nbformat": 4,
 "nbformat_minor": 2
}
